{
  "nbformat": 4,
  "nbformat_minor": 0,
  "metadata": {
    "colab": {
      "name": "unit3_mod1_day1",
      "version": "0.3.2",
      "provenance": [],
      "include_colab_link": true
    },
    "kernelspec": {
      "name": "python3",
      "display_name": "Python 3"
    }
  },
  "cells": [
    {
      "cell_type": "markdown",
      "metadata": {
        "id": "view-in-github",
        "colab_type": "text"
      },
      "source": [
        "<a href=\"https://colab.research.google.com/github/chadeowen/DS-Unit-3-Sprint-1-Software-Engineering/blob/master/unit3_mod1_day1.ipynb\" target=\"_parent\"><img src=\"https://colab.research.google.com/assets/colab-badge.svg\" alt=\"Open In Colab\"/></a>"
      ]
    },
    {
      "metadata": {
        "id": "uApFaNSidEgf",
        "colab_type": "code",
        "colab": {
          "base_uri": "https://localhost:8080/",
          "height": 258
        },
        "outputId": "3fb9dd80-e943-4de0-8076-184bffcc1401"
      },
      "cell_type": "code",
      "source": [
        "!pip install -U -i https://test.pypi.org/simple/ lambdata-chadeowen"
      ],
      "execution_count": 2,
      "outputs": [
        {
          "output_type": "stream",
          "text": [
            "Looking in indexes: https://test.pypi.org/simple/\n",
            "Collecting lambdata-chadeowen\n",
            "  Downloading https://test-files.pythonhosted.org/packages/7b/7d/ac9afb1c3e87d4cb5cbdbc0b1a2cc7a513ac5ad95d99a7cc660ce7c56a65/lambdata_chadeowen-0.0.2-py3-none-any.whl\n",
            "Requirement already satisfied, skipping upgrade: numpy in /usr/local/lib/python3.6/dist-packages (from lambdata-chadeowen) (1.14.6)\n",
            "Requirement already satisfied, skipping upgrade: pandas in /usr/local/lib/python3.6/dist-packages (from lambdata-chadeowen) (0.22.0)\n",
            "Requirement already satisfied, skipping upgrade: python-dateutil>=2 in /usr/local/lib/python3.6/dist-packages (from pandas->lambdata-chadeowen) (2.5.3)\n",
            "Requirement already satisfied, skipping upgrade: pytz>=2011k in /usr/local/lib/python3.6/dist-packages (from pandas->lambdata-chadeowen) (2018.9)\n",
            "Requirement already satisfied, skipping upgrade: six>=1.5 in /usr/local/lib/python3.6/dist-packages (from python-dateutil>=2->pandas->lambdata-chadeowen) (1.11.0)\n",
            "Installing collected packages: lambdata-chadeowen\n",
            "  Found existing installation: lambdata-chadeowen 0.0.1\n",
            "    Uninstalling lambdata-chadeowen-0.0.1:\n",
            "      Successfully uninstalled lambdata-chadeowen-0.0.1\n",
            "Successfully installed lambdata-chadeowen-0.0.2\n"
          ],
          "name": "stdout"
        }
      ]
    },
    {
      "metadata": {
        "id": "ES92IV0udMOW",
        "colab_type": "code",
        "colab": {
          "base_uri": "https://localhost:8080/",
          "height": 170
        },
        "outputId": "745c6403-ac15-4da8-a4f3-891c4599dd74"
      },
      "cell_type": "code",
      "source": [
        "import lambdata_chadeowen\n",
        "dir(lambdata_chadeowen)"
      ],
      "execution_count": 4,
      "outputs": [
        {
          "output_type": "execute_result",
          "data": {
            "text/plain": [
              "['__builtins__',\n",
              " '__cached__',\n",
              " '__doc__',\n",
              " '__file__',\n",
              " '__loader__',\n",
              " '__name__',\n",
              " '__package__',\n",
              " '__path__',\n",
              " '__spec__']"
            ]
          },
          "metadata": {
            "tags": []
          },
          "execution_count": 4
        }
      ]
    },
    {
      "metadata": {
        "id": "IRyIpwctdUE0",
        "colab_type": "code",
        "colab": {}
      },
      "cell_type": "code",
      "source": [
        ""
      ],
      "execution_count": 0,
      "outputs": []
    }
  ]
}